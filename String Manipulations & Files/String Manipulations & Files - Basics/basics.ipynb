{
 "cells": [
  {
   "cell_type": "markdown",
   "metadata": {},
   "source": [
    "Before you turn this problem in, make sure everything runs as expected. First, **restart the kernel** (in the menubar, select Kernel$\\rightarrow$Restart) and then **run all cells** (in the menubar, select Cell$\\rightarrow$Run All).\n",
    "\n",
    "Make sure you fill in any place that says `YOUR CODE HERE` or \"YOUR ANSWER HERE\", as well as your name and collaborators below:"
   ]
  },
  {
   "cell_type": "code",
   "execution_count": null,
   "metadata": {},
   "outputs": [],
   "source": [
    "NAME = \"\"\n",
    "COLLABORATORS = \"\""
   ]
  },
  {
   "cell_type": "markdown",
   "metadata": {},
   "source": [
    "---"
   ]
  },
  {
   "cell_type": "markdown",
   "metadata": {},
   "source": [
    "# Basic string exercises\n",
    "\n",
    "Source: https://developers.google.com/edu/python/"
   ]
  },
  {
   "cell_type": "markdown",
   "metadata": {},
   "source": [
    "### `donuts`\n",
    "Given an int count of a number of donuts, return a string\n",
    "\n",
    "of the form 'Number of donuts: `<count>`', where `<count>` is the number\n",
    "\n",
    "passed in. However, if the count is 10 or more, then use the word 'many'\n",
    "\n",
    "instead of the actual count.\n",
    "\n",
    "So `donuts(5)` returns 'Number of donuts: 5'\n",
    "\n",
    "and `donuts(23)` returns 'Number of donuts: many'"
   ]
  },
  {
   "cell_type": "code",
   "execution_count": null,
   "metadata": {
    "collapsed": false,
    "deletable": false,
    "nbgrader": {
     "checksum": "90bf664e56cb3dc26cebb26094c5dc3d",
     "grade": false,
     "grade_id": "donuts",
     "locked": false,
     "schema_version": 1,
     "solution": true
    }
   },
   "outputs": [],
   "source": [
    "def donuts(count):\n",
    "    # YOUR CODE HERE\n",
    "    raise NotImplementedError()"
   ]
  },
  {
   "cell_type": "code",
   "execution_count": null,
   "metadata": {
    "collapsed": true,
    "deletable": false,
    "editable": false,
    "nbgrader": {
     "checksum": "9f3dac8a729f2ab58e7440607c9a8b59",
     "grade": true,
     "grade_id": "test_donuts",
     "locked": true,
     "points": 10,
     "schema_version": 1,
     "solution": false
    }
   },
   "outputs": [],
   "source": [
    "assert donuts(4) == 'Number of donuts: 4'\n",
    "assert donuts(9) == 'Number of donuts: 9'\n",
    "assert donuts(10) == 'Number of donuts: many'\n",
    "assert donuts(99) == 'Number of donuts: many'"
   ]
  },
  {
   "cell_type": "markdown",
   "metadata": {},
   "source": [
    "### `both_ends`\n",
    "Given a string s, return a string made of the first 2\n",
    "\n",
    "and the last 2 chars of the original string,\n",
    "\n",
    "so 'spring' yields 'spng'. However, if the string length\n",
    "\n",
    "is less than 2, return instead the empty string.\n"
   ]
  },
  {
   "cell_type": "code",
   "execution_count": null,
   "metadata": {
    "collapsed": true,
    "deletable": false,
    "nbgrader": {
     "checksum": "bb1d449084fee9f6255a8761141cbba1",
     "grade": false,
     "grade_id": "both_ends",
     "locked": false,
     "schema_version": 1,
     "solution": true
    }
   },
   "outputs": [],
   "source": [
    "def both_ends(s):\n",
    "    # YOUR CODE HERE\n",
    "    raise NotImplementedError()"
   ]
  },
  {
   "cell_type": "code",
   "execution_count": null,
   "metadata": {
    "collapsed": true,
    "deletable": false,
    "editable": false,
    "nbgrader": {
     "checksum": "15e3f6c5ff7c63e7c6c47ad083f39ba8",
     "grade": true,
     "grade_id": "test_both_ends",
     "locked": true,
     "points": 10,
     "schema_version": 1,
     "solution": false
    }
   },
   "outputs": [],
   "source": [
    "assert both_ends('spring') == 'spng'\n",
    "assert both_ends('Hello') == 'Helo'\n",
    "assert both_ends('a') == ''\n",
    "assert both_ends('xyz') == 'xyyz'"
   ]
  },
  {
   "cell_type": "markdown",
   "metadata": {},
   "source": [
    "### `fix_start`\n",
    "\n",
    "Given a string s, return a string\n",
    "\n",
    "where all occurences of its first char have\n",
    "\n",
    "been changed to '*', except do not change\n",
    "\n",
    "the first char itself.\n",
    "\n",
    "e.g. 'babble' yields 'ba**le'\n",
    "\n",
    "Assume that the string is length 1 or more.\n",
    "\n",
    "Hint: s.replace(stra, strb) returns a version of string s\n",
    "\n",
    "where all instances of stra have been replaced by strb.\n"
   ]
  },
  {
   "cell_type": "code",
   "execution_count": null,
   "metadata": {
    "collapsed": true,
    "deletable": false,
    "nbgrader": {
     "checksum": "ac43047c11a0cfcb67af3b0140a4dc46",
     "grade": false,
     "grade_id": "fix_start",
     "locked": false,
     "schema_version": 1,
     "solution": true
    }
   },
   "outputs": [],
   "source": [
    "def fix_start(s):\n",
    "    # YOUR CODE HERE\n",
    "    raise NotImplementedError()"
   ]
  },
  {
   "cell_type": "code",
   "execution_count": null,
   "metadata": {
    "collapsed": true,
    "deletable": false,
    "editable": false,
    "nbgrader": {
     "checksum": "0b78892a986cb49c60b202e1ccc54b82",
     "grade": true,
     "grade_id": "test_fix_start",
     "locked": true,
     "points": 10,
     "schema_version": 1,
     "solution": false
    }
   },
   "outputs": [],
   "source": [
    "assert fix_start('babble') == 'ba**le'\n",
    "assert fix_start('aardvark') == 'a*rdv*rk'\n",
    "assert fix_start('google') == 'goo*le'\n",
    "assert fix_start('donut') == 'donut'"
   ]
  },
  {
   "cell_type": "markdown",
   "metadata": {},
   "source": [
    "### `mix_up`\n",
    "\n",
    "Given strings a and b, return a single string with a and b separated\n",
    "\n",
    "by a space '`<a> <b>`', except swap the first 2 chars of each string.\n",
    "\n",
    "e.g.\n",
    "\n",
    "  'mix', pod' -> 'pox mid'\n",
    "  \n",
    "  'dog', 'dinner' -> 'dig donner'\n",
    "\n",
    "Assume a and b are length 2 or more."
   ]
  },
  {
   "cell_type": "code",
   "execution_count": null,
   "metadata": {
    "collapsed": true,
    "deletable": false,
    "nbgrader": {
     "checksum": "e5881a64ff344d0791538daf25694a28",
     "grade": false,
     "grade_id": "mix_up",
     "locked": false,
     "schema_version": 1,
     "solution": true
    }
   },
   "outputs": [],
   "source": [
    "def mix_up(a, b):\n",
    "    # YOUR CODE HERE\n",
    "    raise NotImplementedError()"
   ]
  },
  {
   "cell_type": "code",
   "execution_count": null,
   "metadata": {
    "collapsed": false,
    "deletable": false,
    "editable": false,
    "nbgrader": {
     "checksum": "68b8673901d66c338f99d7d6f9cb4406",
     "grade": true,
     "grade_id": "test_mix_up",
     "locked": true,
     "points": 10,
     "schema_version": 1,
     "solution": false
    }
   },
   "outputs": [],
   "source": [
    "assert mix_up('mix', 'pod') == 'pox mid'\n",
    "assert mix_up('dog', 'dinner') == 'dig donner'\n",
    "assert mix_up('gnash', 'sport') == 'spash gnort'\n",
    "assert mix_up('pezzy', 'firm') == 'fizzy perm'"
   ]
  },
  {
   "cell_type": "markdown",
   "metadata": {},
   "source": [
    "### Extra exercises"
   ]
  },
  {
   "cell_type": "markdown",
   "metadata": {},
   "source": [
    "### `verbing`\n",
    "\n",
    "Given a string, if its length is at least 3,\n",
    "\n",
    "add 'ing' to its end.\n",
    "\n",
    "Unless it already ends in 'ing', in which case\n",
    "\n",
    "add 'ly' instead.\n",
    "\n",
    "If the string length is less than 3, leave it unchanged.\n",
    "\n",
    "Return the resulting string."
   ]
  },
  {
   "cell_type": "code",
   "execution_count": null,
   "metadata": {
    "collapsed": true,
    "deletable": false,
    "nbgrader": {
     "checksum": "f904b41df0fbb26ab6d7553b45cad9f7",
     "grade": false,
     "grade_id": "verbing",
     "locked": false,
     "schema_version": 1,
     "solution": true
    }
   },
   "outputs": [],
   "source": [
    "def verbing(s):\n",
    "    # YOUR CODE HERE\n",
    "    raise NotImplementedError()"
   ]
  },
  {
   "cell_type": "code",
   "execution_count": null,
   "metadata": {
    "collapsed": true,
    "deletable": false,
    "editable": false,
    "nbgrader": {
     "checksum": "1315e2dc4a9dc7ff28530b7f0502ad02",
     "grade": true,
     "grade_id": "test_verbing",
     "locked": true,
     "points": 10,
     "schema_version": 1,
     "solution": false
    }
   },
   "outputs": [],
   "source": [
    "assert verbing('hail') == 'hailing'\n",
    "assert verbing('swiming') == 'swimingly'\n",
    "assert verbing('do') == 'do'"
   ]
  },
  {
   "cell_type": "markdown",
   "metadata": {},
   "source": [
    "### `not_bad`\n",
    "\n",
    "Given a string, find the first appearance of the\n",
    "\n",
    "substring 'not' and 'bad'. If the 'bad' follows\n",
    "\n",
    "the 'not', replace the whole 'not'...'bad' substring\n",
    "\n",
    "with 'good'.\n",
    "\n",
    "Return the resulting string.\n",
    "\n",
    "So 'This dinner is not that bad!' yields:\n",
    "\n",
    "This dinner is good!"
   ]
  },
  {
   "cell_type": "code",
   "execution_count": null,
   "metadata": {
    "collapsed": true,
    "deletable": false,
    "nbgrader": {
     "checksum": "2f6ae54831f327574c32a5a7cc148b38",
     "grade": false,
     "grade_id": "not_bad",
     "locked": false,
     "schema_version": 1,
     "solution": true
    }
   },
   "outputs": [],
   "source": [
    "def not_bad(s):\n",
    "    # YOUR CODE HERE\n",
    "    raise NotImplementedError()"
   ]
  },
  {
   "cell_type": "code",
   "execution_count": null,
   "metadata": {
    "collapsed": true,
    "deletable": false,
    "editable": false,
    "nbgrader": {
     "checksum": "adef096d6471671b83a0b30ec3dfe0b8",
     "grade": true,
     "grade_id": "test_not_bad",
     "locked": true,
     "points": 10,
     "schema_version": 1,
     "solution": false
    }
   },
   "outputs": [],
   "source": [
    "assert not_bad('This movie is not so bad') == 'This movie is good'\n",
    "assert not_bad('This dinner is not that bad!') == 'This dinner is good!'\n",
    "assert not_bad('This tea is not hot') == 'This tea is not hot'\n",
    "assert not_bad(\"It's bad yet not\"), \"It's bad yet not\""
   ]
  },
  {
   "cell_type": "markdown",
   "metadata": {},
   "source": [
    "### `front_back`\n",
    "\n",
    "Consider dividing a string into two halves.\n",
    "\n",
    "If the length is even, the front and back halves are the same length.\n",
    "\n",
    "If the length is odd, we'll say that the extra char goes in the front half.\n",
    "\n",
    "e.g. 'abcde', the front half is 'abc', the back half 'de'.\n",
    "\n",
    "Given 2 strings, a and b, return a string of the form\n",
    "\n",
    "a-front + b-front + a-back + b-back"
   ]
  },
  {
   "cell_type": "code",
   "execution_count": null,
   "metadata": {
    "collapsed": true,
    "deletable": false,
    "nbgrader": {
     "checksum": "b30c988448063a4e5ce71a8d25e4b3b0",
     "grade": false,
     "grade_id": "front_back",
     "locked": false,
     "schema_version": 1,
     "solution": true
    }
   },
   "outputs": [],
   "source": [
    "def front_back(a, b):\n",
    "    # YOUR CODE HERE\n",
    "    raise NotImplementedError()"
   ]
  },
  {
   "cell_type": "code",
   "execution_count": null,
   "metadata": {
    "collapsed": false,
    "deletable": false,
    "editable": false,
    "nbgrader": {
     "checksum": "f554ecf0be7a12b02c3775b299abaeac",
     "grade": true,
     "grade_id": "test_front_back",
     "locked": true,
     "points": 10,
     "schema_version": 1,
     "solution": false
    }
   },
   "outputs": [],
   "source": [
    "assert front_back('abcd', 'xy') == 'abxcdy'\n",
    "assert front_back('abcde', 'xyz') == 'abcxydez'\n",
    "assert front_back('Kitten', 'Donut') == 'KitDontenut'"
   ]
  },
  {
   "cell_type": "markdown",
   "metadata": {},
   "source": [
    "# Basic file exercises"
   ]
  },
  {
   "cell_type": "markdown",
   "metadata": {},
   "source": [
    "### `upperize_file`\n",
    "\n",
    "Given a file name of **textual** file, returns the file's content in uppercase."
   ]
  },
  {
   "cell_type": "code",
   "execution_count": null,
   "metadata": {
    "collapsed": true,
    "deletable": false,
    "nbgrader": {
     "checksum": "54ac0fc1c213fc46ed4282501f88b19a",
     "grade": false,
     "grade_id": "upperize_file",
     "locked": false,
     "schema_version": 1,
     "solution": true
    }
   },
   "outputs": [],
   "source": [
    "def upperize_file(filename):\n",
    "    # YOUR CODE HERE\n",
    "    raise NotImplementedError()"
   ]
  },
  {
   "cell_type": "code",
   "execution_count": null,
   "metadata": {
    "collapsed": false,
    "deletable": false,
    "editable": false,
    "nbgrader": {
     "checksum": "18856d2464896773f4a93e9127cbe81d",
     "grade": true,
     "grade_id": "test_upperize_file",
     "locked": true,
     "points": 10,
     "schema_version": 1,
     "solution": false
    }
   },
   "outputs": [],
   "source": [
    "print(upperize_file('Alice-Project-Gutenberg.txt')[:1000])\n"
   ]
  },
  {
   "cell_type": "markdown",
   "metadata": {},
   "source": [
    "### `process_ages_file`\n",
    "Given a file name that contains names and ages, return a dictionay\n",
    "of the average, minimum and maximum ages in the file.\n",
    "\n",
    "For example, given this file:\n",
    "```\n",
    "Bonnie - 20\n",
    "Clyde - 21\n",
    "```\n",
    "the function returns:\n",
    "`{'average': 20,5, 'max': 21, 'min': 22}`"
   ]
  },
  {
   "cell_type": "code",
   "execution_count": null,
   "metadata": {
    "collapsed": false,
    "deletable": false,
    "nbgrader": {
     "checksum": "54e7c5b67349d0f4ec1f1a5b021377e1",
     "grade": false,
     "grade_id": "process_ages_files",
     "locked": false,
     "schema_version": 1,
     "solution": true
    }
   },
   "outputs": [],
   "source": [
    "def process_ages_file(filename):\n",
    "    # YOUR CODE HERE\n",
    "    raise NotImplementedError()"
   ]
  },
  {
   "cell_type": "code",
   "execution_count": null,
   "metadata": {
    "collapsed": false,
    "deletable": false,
    "editable": false,
    "nbgrader": {
     "checksum": "4863946804489d27f42d91a2ffd775a9",
     "grade": true,
     "grade_id": "test_process_ages_files",
     "locked": true,
     "points": 10,
     "schema_version": 1,
     "solution": false
    }
   },
   "outputs": [],
   "source": [
    "assert process_ages_file('names-ages.txt') == { 'average': 61.125,\n",
    "                                                'max': 84,\n",
    "                                                'min': 39\n",
    "                                              }"
   ]
  },
  {
   "cell_type": "markdown",
   "metadata": {},
   "source": [
    "### `save_names_ages_sorted`\n",
    "\n",
    "Given a dictionary names2ages that maps names to ages,\n",
    "and a file name, save the data in the dictionary to a file using the exact same format as the previous task.\n",
    "The file's lines should be sorted by alphabetic order of the names."
   ]
  },
  {
   "cell_type": "code",
   "execution_count": null,
   "metadata": {
    "collapsed": true,
    "deletable": false,
    "nbgrader": {
     "checksum": "6e287d848d6d307d9d581e7b8817defd",
     "grade": false,
     "grade_id": "save_names_ages_sorted",
     "locked": false,
     "schema_version": 1,
     "solution": true
    }
   },
   "outputs": [],
   "source": [
    "def save_names_ages_sorted(names2ages, filename):\n",
    "    # YOUR CODE HERE\n",
    "    raise NotImplementedError()"
   ]
  },
  {
   "cell_type": "code",
   "execution_count": null,
   "metadata": {
    "collapsed": false,
    "deletable": false,
    "editable": false,
    "nbgrader": {
     "checksum": "7c82dc76cdc0841d2e760383e2a1f5e6",
     "grade": true,
     "grade_id": "test_save_names_ages_sorted",
     "locked": true,
     "points": 10,
     "schema_version": 1,
     "solution": false
    }
   },
   "outputs": [],
   "source": [
    "names2ages = {'Angela Merkel': 63,\n",
    "              'Barack Obama': 56,\n",
    "              'Barak Obama': 56,\n",
    "              'Donald Trump': 71,\n",
    "              'Emmanuel Macron': 39,\n",
    "              'Justin Trudeau': 45,\n",
    "              'Paul McCartney': 75,\n",
    "              'Yoko Ono': 84}\n",
    "\n",
    "save_names_ages_sorted(names2ages, 'new-names-ages.txt')\n",
    "\n",
    "# a packace from Python's Standard Library for comparing two files\n",
    "import filecmp\n",
    "assert filecmp.cmp('names-ages.txt', 'new-names-ages.txt')\n"
   ]
  }
 ],
 "metadata": {
  "kernelspec": {
   "display_name": "Python 3",
   "language": "python",
   "name": "python3"
  },
  "language_info": {
   "codemirror_mode": {
    "name": "ipython",
    "version": 3
   },
   "file_extension": ".py",
   "mimetype": "text/x-python",
   "name": "python",
   "nbconvert_exporter": "python",
   "pygments_lexer": "ipython3",
   "version": "3.5.2"
  }
 },
 "nbformat": 4,
 "nbformat_minor": 2
}
