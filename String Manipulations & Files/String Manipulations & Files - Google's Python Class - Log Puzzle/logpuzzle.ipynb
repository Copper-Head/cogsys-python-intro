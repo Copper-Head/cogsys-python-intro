{
 "cells": [
  {
   "cell_type": "markdown",
   "metadata": {},
   "source": [
    "Before you turn this problem in, make sure everything runs as expected. First, **restart the kernel** (in the menubar, select Kernel$\\rightarrow$Restart) and then **run all cells** (in the menubar, select Cell$\\rightarrow$Run All).\n",
    "\n",
    "Make sure you fill in any place that says `YOUR CODE HERE` or \"YOUR ANSWER HERE\", as well as your name and collaborators below:"
   ]
  },
  {
   "cell_type": "code",
   "execution_count": null,
   "metadata": {},
   "outputs": [],
   "source": [
    "NAME = \"\"\n",
    "COLLABORATORS = \"\""
   ]
  },
  {
   "cell_type": "markdown",
   "metadata": {},
   "source": [
    "---"
   ]
  },
  {
   "cell_type": "markdown",
   "metadata": {},
   "source": [
    "# Log Puzzle Python Exercise\n",
    "\n",
    "Source: https://developers.google.com/edu/python/"
   ]
  },
  {
   "cell_type": "markdown",
   "metadata": {},
   "source": [
    "For the Log Puzzle exercise, you'll use Python code to solve two puzzles. This exercise uses the `urllib` module. The files for this exercise are in the `logpuzzle` directory. Add your code to this notebook.\n",
    "\n",
    "An image of an animal has been broken it into many narrow vertical stripe images. The stripe images are on the internet somewhere, each with its own url. The urls are hidden in a web server log file. Your mission is to find the urls and download all image stripes to re-create the original image.\n",
    "\n",
    "The slice urls are hidden inside apache log files (the open source apache web server is the most widely used server on the internet). Each log file is from some server, and the desired slice urls are hidden within the logs. The log file encodes what server it comes from like this: the log file **animal_code.google.com** is from the code.google.com server (formally, we'll say that the server name is whatever follows the first underbar). The animial_code.google.com log file contains the data for the \"animal\" puzzle image. Although the data in the log files has the syntax of a real apache web server, the data beyond what's needed for the puzzle is randomized data from a real log file.\n",
    "\n",
    "Here is what a single line from the log file looks like (this really is what apache log files look like):\n",
    "\n",
    "```\n",
    "10.254.254.28 - - [06/Aug/2007:00:14:08 -0700] \"GET /foo/talks/ HTTP/1.1\"\n",
    "200 5910 \"-\" \"Mozilla/5.0 (X11; U; Linux i686 (x86_64); en-US; rv:1.8.1.4) Gecko/20070515 Firefox/2.0.0.4\"\n",
    "```\n",
    "\n",
    "The first few numbers are the address of the requesting browser. The most interesting part is the \"GET path HTTP\" showing the path of a web request received by the server. The path itself never contain spaces, and is separated from the GET and HTTP by spaces (regex suggestion: \\S (upper case S) matches any non-space char). Find the lines in the log where the string \"puzzle\" appears inside the path, ignoring the many other lines in the log."
   ]
  },
  {
   "cell_type": "markdown",
   "metadata": {},
   "source": [
    "## Part A - Log File To Urls\n",
    "\n",
    "Complete the `read_urls(filename)` function that extracts the puzzle urls from inside a logfile. Find all the \"puzzle\" path urls in the logfile. Combine the path from each url with the server name from the filename to form a full url, e.g. \"http://www.example.com/path/puzzle/from/inside/file\". Screen out urls that appear more than once. The `read_urls()` function should return the list of full urls, sorted into alphabetical order and without duplicates. Taking the urls in alphabetical order will yield the image slices in the correct left-to-right order to re-create the original animal image."
   ]
  },
  {
   "cell_type": "code",
   "execution_count": null,
   "metadata": {
    "collapsed": false,
    "deletable": false,
    "nbgrader": {
     "checksum": "c47f14a7edd56e694ae3556a0f52c26e",
     "grade": false,
     "grade_id": "read_urls_animal",
     "locked": false,
     "schema_version": 1,
     "solution": true
    }
   },
   "outputs": [],
   "source": [
    "def read_urls(filename):\n",
    "    \"\"\"Returns a list of the puzzle urls from the given log file,\n",
    "    extracting the hostname from the filename itself.\n",
    "    Screens out duplicate urls and returns the urls sorted into\n",
    "    increasing order.\"\"\"\n",
    "    # YOUR CODE HERE\n",
    "    raise NotImplementedError()"
   ]
  },
  {
   "cell_type": "code",
   "execution_count": null,
   "metadata": {
    "collapsed": false,
    "deletable": false,
    "editable": false,
    "nbgrader": {
     "checksum": "78b70da08fd4940d737e5b17bdd97d6c",
     "grade": true,
     "grade_id": "test_read_urls_animal",
     "locked": true,
     "points": 30,
     "schema_version": 1,
     "solution": false
    }
   },
   "outputs": [],
   "source": [
    "# A Python package for the standard library for \"pretty\" print\n",
    "from pprint import pprint\n",
    "\n",
    "animal_urls = read_urls('animal_code.google.com')\n",
    "\n",
    "pprint(animal_urls)\n"
   ]
  },
  {
   "cell_type": "markdown",
   "metadata": {},
   "source": [
    "## Part B - Download Images Puzzle\n",
    "\n",
    "Complete the `download_images()` function which takes a sorted list of urls and a directory. Download the image from each url into the given directory, creating the directory first if necessary (see the \"os\" module to create a directory, and `urllib.urlretrieve()` for downloading a url). Name the local image files with a simple scheme like `img0`, `img1`, `img2`, and so on. You may wish to print a little \"Retrieving...\" status output line while downloading each image since it can be slow and its nice to have some indication that the program is working. Each image is a little vertical slice from the original. How to put the slices together to re-create the original? It can be solved nicely with a little html (knowledge of HTML is not required).\n",
    "\n",
    "The `download_images()` function should also create an index.html file in the directory with an *img* tag to show each local image file. The img tags should all be on one line together without separation. In this way, the browser displays all the slices together seamlessly. You do not need knowledge of HTML to do this; just create an index.html file that looks like this:\n",
    "\n",
    "```\n",
    "<verbatim>\n",
    "<html>\n",
    "<body>\n",
    "<img src=\"/edu/python/exercises/img0\"><img src=\"/edu/python/exercises/img1\"><img src=\"/edu/python/exercises/img2\">...\n",
    "</body>\n",
    "</html>\n",
    "```\n",
    "\n",
    "Here's what it should look like after running `download_images` with `animaldir` as `dest_dir`.\n",
    "\n",
    "$ ls animaldir\n",
    "img0  img1  img2  img3  img4  img5  img6  img7  img8  img9  index.html\n",
    "\n",
    "When it's all working, opening the index.html in a browser should reveal the original animal image. What is the animal in the image?"
   ]
  },
  {
   "cell_type": "code",
   "execution_count": null,
   "metadata": {
    "collapsed": true
   },
   "outputs": [],
   "source": [
    "import os\n",
    "\n",
    "import urllib.request"
   ]
  },
  {
   "cell_type": "code",
   "execution_count": null,
   "metadata": {
    "collapsed": false,
    "deletable": false,
    "nbgrader": {
     "checksum": "8f9a15ad822c6059d8be3b64ad972a12",
     "grade": false,
     "grade_id": "download_images",
     "locked": false,
     "schema_version": 1,
     "solution": true
    }
   },
   "outputs": [],
   "source": [
    "def download_images(img_urls, dest_dir):\n",
    "    \"\"\"Given the urls already in the correct order, downloads\n",
    "    each image into the given directory.\n",
    "    Gives the images local filenames img0, img1, and so on.\n",
    "    Creates an index.html in the directory\n",
    "    with an img tag to show each local image file.\n",
    "    Creates the directory if necessary.\n",
    "    \"\"\"\n",
    "    # YOUR CODE HERE\n",
    "    raise NotImplementedError()"
   ]
  },
  {
   "cell_type": "code",
   "execution_count": null,
   "metadata": {
    "collapsed": false,
    "deletable": false,
    "editable": false,
    "nbgrader": {
     "checksum": "3313210457ef9db1a016234e3fda915a",
     "grade": true,
     "grade_id": "test_download_images_animal",
     "locked": true,
     "points": 0,
     "schema_version": 1,
     "solution": false
    },
    "scrolled": true
   },
   "outputs": [],
   "source": [
    "download_images(animal_urls, 'animaldir')\n",
    "\n",
    "# This code show the index.html in Jupyter Notebook\n",
    "import IPython\n",
    "IPython.display.IFrame(os.path.join('animaldir', 'index.html'), width=600, height=400)"
   ]
  },
  {
   "cell_type": "code",
   "execution_count": null,
   "metadata": {
    "collapsed": true,
    "deletable": false,
    "editable": false,
    "nbgrader": {
     "checksum": "6b6ca260bd0d835982bcba1f189ee215",
     "grade": true,
     "grade_id": "test_download_images_animal_files",
     "locked": true,
     "points": 30,
     "schema_version": 1,
     "solution": false
    }
   },
   "outputs": [],
   "source": []
  },
  {
   "cell_type": "markdown",
   "metadata": {},
   "source": [
    "## Part C - Image Slice Descrambling\n",
    "\n",
    "The second puzzle involves an image of a very famous place, but depends on some custom sorting. For the first puzzle, the urls can be sorted alphabetically to order the images correctly. In the sort, the whole url is used. However, we'll say that if the url ends in the pattern \"-wordchars-wordchars.jpg\", e.g. \"http://example.com/foo/puzzle/bar-abab-baaa.jpg\", then the url should be represented by the second word in the sort (e.g. \"baaa\"). So sorting a list of urls each ending with the word-word.jpg pattern should order the urls by the second word.\n",
    "\n",
    "Extend your code to order such urls properly, and then you should be able to decode the second **place_code.google.com** puzzle which shows a famous place. What place does it show?"
   ]
  },
  {
   "cell_type": "code",
   "execution_count": null,
   "metadata": {
    "collapsed": true,
    "deletable": false,
    "nbgrader": {
     "checksum": "8e4fb26f2e822abc2d44058fb3addd8a",
     "grade": false,
     "grade_id": "read_urls_place",
     "locked": false,
     "schema_version": 1,
     "solution": true
    }
   },
   "outputs": [],
   "source": [
    "def read_urls(filename):\n",
    "    \"\"\"Returns a list of the puzzle urls from the given log file,\n",
    "    extracting the hostname from the filename itself.\n",
    "    Screens out duplicate urls and returns the urls sorted into\n",
    "    increasing order.\"\"\"\n",
    "    # YOUR CODE HERE\n",
    "    raise NotImplementedError()"
   ]
  },
  {
   "cell_type": "code",
   "execution_count": null,
   "metadata": {
    "collapsed": false,
    "deletable": false,
    "editable": false,
    "nbgrader": {
     "checksum": "aedcbc79a1073686f36d003ef87f18f8",
     "grade": true,
     "grade_id": "test_read_urls_place",
     "locked": true,
     "points": 20,
     "schema_version": 1,
     "solution": false
    },
    "scrolled": true
   },
   "outputs": [],
   "source": [
    "place_urls = read_urls('place_code.google.com')\n",
    "\n",
    "pprint(place_urls)\n"
   ]
  },
  {
   "cell_type": "code",
   "execution_count": null,
   "metadata": {
    "collapsed": false,
    "deletable": false,
    "editable": false,
    "nbgrader": {
     "checksum": "03143894c3808aefae3144a4b4e4dc86",
     "grade": true,
     "grade_id": "test_download_images_place",
     "locked": true,
     "points": 0,
     "schema_version": 1,
     "solution": false
    }
   },
   "outputs": [],
   "source": [
    "download_images(place_urls, 'placedir')\n",
    "\n",
    "IPython.display.IFrame(os.path.join('placedir', 'index.html'), width=1000, height=700)"
   ]
  },
  {
   "cell_type": "code",
   "execution_count": null,
   "metadata": {
    "collapsed": true,
    "deletable": false,
    "editable": false,
    "nbgrader": {
     "checksum": "fea077428ea0ff5e751ef46f88278591",
     "grade": true,
     "grade_id": "test_download_images_place_files",
     "locked": true,
     "points": 20,
     "schema_version": 1,
     "solution": false
    }
   },
   "outputs": [],
   "source": []
  },
  {
   "cell_type": "code",
   "execution_count": null,
   "metadata": {
    "collapsed": true,
    "deletable": false,
    "editable": false,
    "nbgrader": {
     "checksum": "0e9af53481815cdeaa109545719ec9d5",
     "grade": true,
     "grade_id": "clean",
     "locked": true,
     "points": 0,
     "schema_version": 1,
     "solution": false
    }
   },
   "outputs": [],
   "source": []
  }
 ],
 "metadata": {
  "kernelspec": {
   "display_name": "Python 3",
   "language": "python",
   "name": "python3"
  },
  "language_info": {
   "codemirror_mode": {
    "name": "ipython",
    "version": 3
   },
   "file_extension": ".py",
   "mimetype": "text/x-python",
   "name": "python",
   "nbconvert_exporter": "python",
   "pygments_lexer": "ipython3",
   "version": "3.5.2"
  }
 },
 "nbformat": 4,
 "nbformat_minor": 2
}
