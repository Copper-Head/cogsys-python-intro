{
 "cells": [
  {
   "cell_type": "code",
   "execution_count": null,
   "metadata": {},
   "outputs": [],
   "source": [
    "# All these snippets attempt to have a base_list = [0,...,9] and get a new list where each list is multiplied by 2,\n",
    "# without changing the original list\n",
    "base_list = list(range(10))\n",
    "\n",
    "# idea behind this one: just \"copy\" the list and then multiply each element! Easy!\n",
    "def multiply_elements(a_list, factor):\n",
    "    new_list = a_list\n",
    "    for ind in range(len(new_list)):\n",
    "        new_list[ind] *= factor\n",
    "    return new_list\n",
    "\n",
    "\n",
    "multiplied = multiply_elements(base_list, 2)\n",
    "\n",
    "print(\"Unintended side effects...\")\n",
    "print(multiplied)\n",
    "print(base_list)"
   ]
  },
  {
   "cell_type": "code",
   "execution_count": null,
   "metadata": {},
   "outputs": [],
   "source": [
    "# Whoops! Turns out new_list actually referred to *the same object* as a_list, and by modifying one we modify the other\n",
    "# try again...\n",
    "base_list = list(range(10))\n",
    "\n",
    "# here we create a new list with *the same elements* as the old one. Big difference!\n",
    "def multiply_elements(a_list, factor):\n",
    "    new_list = a_list[:]\n",
    "    for ind in range(len(new_list)):\n",
    "        new_list[ind] *= factor\n",
    "    return new_list\n",
    "\n",
    "multiplied = multiply_elements(base_list, 2)\n",
    "\n",
    "print(\"Success!\")\n",
    "print(multiplied)\n",
    "print(base_list)"
   ]
  },
  {
   "cell_type": "code",
   "execution_count": null,
   "metadata": {},
   "outputs": [],
   "source": [
    "# the above works, but it looks kinda ugly. How about this?\n",
    "base_list = list(range(10))\n",
    "\n",
    "# this looks a lot more \"pythonic\" for sure\n",
    "def multiply_elements(a_list, factor):\n",
    "    new_list = a_list\n",
    "    for elem in new_list:\n",
    "        elem *= factor\n",
    "    return new_list\n",
    "\n",
    "\n",
    "multiplied = multiply_elements(base_list, 2)\n",
    "\n",
    "print(\"Nothing happens to either list...\")\n",
    "print(multiplied)\n",
    "print(base_list)"
   ]
  },
  {
   "cell_type": "code",
   "execution_count": null,
   "metadata": {},
   "outputs": [],
   "source": [
    "# ... turns out it does nothing because the elements of this list are integers and integers are passed\n",
    "# by *value* so the \"elem\" we modify is actually not an element of the list\n",
    "\n",
    "# this is arguably the \"nicest\" way to do something like this in python\n",
    "multiplied = [2*elem for elem in base_list]\n",
    "print(multiplied)"
   ]
  },
  {
   "cell_type": "code",
   "execution_count": null,
   "metadata": {},
   "outputs": [],
   "source": [
    "# Things are quite different if the list elements are also mutable/passed by reference (e.g. lists)\n",
    "base_list = [list(range(i)) for i in range(10)]\n",
    "print(base_list)\n",
    "\n",
    "# note that this is the same function as in the example above where nothing happened!\n",
    "def multiply_elements(a_list, factor):\n",
    "    new_list = a_list\n",
    "    for elem in new_list:\n",
    "        elem *= factor\n",
    "    return new_list\n",
    "\n",
    "\n",
    "multiplied = multiply_elements(base_list, 2)\n",
    "print(\"\\nMultiply each list element (also lists!!) by 2:\")\n",
    "print(multiplied)\n",
    "print(\"\\nThe base list has changed:\")\n",
    "print(base_list)\n",
    "\n",
    "# POTENTIAL TODO: Also apply the other two attempts at multiply_lists to lists of lists \n",
    "# (or lists of mutable objects in general)"
   ]
  },
  {
   "cell_type": "code",
   "execution_count": null,
   "metadata": {},
   "outputs": [],
   "source": [
    "# be careful multiplying lists...\n",
    "base_list = [[]]*10  # a list containing ten empty lists\n",
    "base_list[0].append(\"elem\")  # we want to append \"elem\" only to the first list in base_list\n",
    "print(\"All elements are modified because they are *the same empty list* ten times.\")\n",
    "print(base_list)\n",
    "\n",
    "# the proper way\n",
    "base_list = [[] for _ in range(10)]\n",
    "base_list[0].append(\"elem\")\n",
    "print(\"\\nTen different empty lists were created.\")\n",
    "print(base_list)"
   ]
  },
  {
   "cell_type": "code",
   "execution_count": null,
   "metadata": {},
   "outputs": [],
   "source": [
    "# how to copy dictionaries\n",
    "dictionary = {\"a\": 5}\n",
    "new_dict = dictionary\n",
    "new_dict[\"a\"] = 10\n",
    "print(\"We changed the old dictionary as well...\")\n",
    "print(dictionary[\"a\"])\n",
    "\n",
    "\n",
    "dictionary = {\"a\": 5}\n",
    "new_dict = dictionary.copy()\n",
    "new_dict[\"a\"] = 10\n",
    "print(\"\\nOld dictionary is unchanged:\")\n",
    "print(dictionary[\"a\"])"
   ]
  },
  {
   "cell_type": "code",
   "execution_count": null,
   "metadata": {
    "collapsed": true
   },
   "outputs": [],
   "source": [
    "# not all classes have a .copy() method. You can use\n",
    "from copy import copy, deepcopy\n",
    "# instead"
   ]
  }
 ],
 "metadata": {
  "kernelspec": {
   "display_name": "Python 3",
   "language": "python",
   "name": "python3"
  },
  "language_info": {
   "codemirror_mode": {
    "name": "ipython",
    "version": 3
   },
   "file_extension": ".py",
   "mimetype": "text/x-python",
   "name": "python",
   "nbconvert_exporter": "python",
   "pygments_lexer": "ipython3",
   "version": "3.5.2"
  }
 },
 "nbformat": 4,
 "nbformat_minor": 2
}
