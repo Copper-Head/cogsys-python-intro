{
 "cells": [
  {
   "cell_type": "markdown",
   "metadata": {},
   "source": [
    "Somewhat advanced: Dynamic programming/filling tables, memorizing partial solutions etc.\n",
    "Task: We are interested in how many ways there are to form some value (here: 5€) given\n",
    "any number of coins of certain values (here: Standard Euro coins).\n",
    "E.g. there are two ways of forming 2 Cents: Using one 2 Cent coin, or two 1 Cent coins.\n",
    "\n",
    "Basic solution idea: We can pick out a coin and decide to use this any number of times --\n",
    "0 up to some number that doesn't exceed the value to form. E.g. to form 2€, we may use\n",
    "0-40 5 Cent coins.\n",
    "We subtract this value from the target and repeat the same thing with one of the remaining\n",
    "coins and the new value.\n",
    "E.g. if we pick 15 5 Cent coins to form 2€, 1.25€ still remain to be formed with any of\n",
    "the coins except the 5 Cent ones.\n",
    "This allows for a recursive formulation where we go through coins in decreasing value."
   ]
  },
  {
   "cell_type": "code",
   "execution_count": null,
   "metadata": {
    "collapsed": true
   },
   "outputs": [],
   "source": [
    "import sys\n",
    "sys.setrecursionlimit(100000)\n",
    "all_coin_values = [1, 2, 5, 10, 20, 50, 100, 200]"
   ]
  },
  {
   "cell_type": "code",
   "execution_count": null,
   "metadata": {
    "collapsed": true
   },
   "outputs": [],
   "source": [
    "CALLS_DUMB = 0  # just for checking efficiency\n",
    "\n",
    "\n",
    "def ways_to_make(target_val, coin_values):\n",
    "    global CALLS_DUMB  # need to use this if assigning to global variables within a local namespace\n",
    "    CALLS_DUMB += 1\n",
    "\n",
    "    if len(coin_values) == 1:\n",
    "        return 1  # assumes that we have a coin of value 1 -- otherwise we might need to return 0 if our only remaining coin is too big!\n",
    "    else:\n",
    "        coin_values_copy = coin_values[:]  # make sure we're not modifying the list in \"higher\" calls, but only for passing it downwards\n",
    "        current_value = coin_values_copy.pop()  # get the last value and also remove it\n",
    "        ways = 0\n",
    "        max_uses_this_coin = target_val // current_value  # abuses integer division(rounding down)!\n",
    "        for uses_of_current_value in range(max_uses_this_coin + 1):  # add 1 because range excludes the highest value\n",
    "            remaining_value = target_val - uses_of_current_value*current_value\n",
    "            ways += ways_to_make(remaining_value, coin_values_copy)\n",
    "        return ways\n",
    "\n",
    "print(\"Result: {}. Calls needed: {}\".format(ways_to_make(500, all_coin_values), CALLS_DUMB))"
   ]
  },
  {
   "cell_type": "code",
   "execution_count": null,
   "metadata": {
    "collapsed": true
   },
   "outputs": [],
   "source": [
    "CALLS_SMART = 0\n",
    "\n",
    "\n",
    "# NOTE that this \"abuses\" (or rather, makes good use of) call-by-reference -- modifying the memo dictionary in deep\n",
    "# recursive calls also modifies it for the higher calls, such that the updated table can be passed down in other\n",
    "# recursive branches\n",
    "def ways_to_make_memo(target_val, coin_values, memo):\n",
    "    global CALLS_SMART\n",
    "    CALLS_SMART += 1\n",
    "\n",
    "    if len(coin_values) == 1:\n",
    "        return 1\n",
    "    elif (target_val, len(coin_values)) in memo:\n",
    "        return memo[(target_val, len(coin_values))]\n",
    "    else:\n",
    "        coin_values_copy = coin_values[:]\n",
    "        current_value = coin_values_copy.pop()\n",
    "        ways = 0\n",
    "        for uses_of_current_value in range(target_val // current_value + 1):\n",
    "            ways += ways_to_make_memo(target_val - uses_of_current_value*current_value, coin_values_copy, memo)\n",
    "        memo[(target_val, len(coin_values))] = ways  # because we always go through coin values in the same order, we can identify the list of available values with how many different values are available\n",
    "        return ways\n",
    "\n",
    "print(\"Result: {}. Calls needed: {}\".format(ways_to_make_memo(500, all_coin_values, {}), CALLS_SMART))"
   ]
  },
  {
   "cell_type": "code",
   "execution_count": null,
   "metadata": {
    "collapsed": true
   },
   "outputs": [],
   "source": []
  }
 ],
 "metadata": {
  "kernelspec": {
   "display_name": "Python 3",
   "language": "python",
   "name": "python3"
  },
  "language_info": {
   "codemirror_mode": {
    "name": "ipython",
    "version": 3
   },
   "file_extension": ".py",
   "mimetype": "text/x-python",
   "name": "python",
   "nbconvert_exporter": "python",
   "pygments_lexer": "ipython3",
   "version": "3.5.2"
  }
 },
 "nbformat": 4,
 "nbformat_minor": 1
}
