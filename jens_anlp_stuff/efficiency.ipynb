{
 "cells": [
  {
   "cell_type": "code",
   "execution_count": null,
   "metadata": {
    "collapsed": true
   },
   "outputs": [],
   "source": [
    "import time\n",
    "# dict containing all the numbers up to some big value as keys (values don't matter here)\n",
    "really_big_dict = dict(zip(range(50000), [str(ind) for ind in range(50000)]))\n",
    "# list containing all *even* numbers up to some big value\n",
    "really_long_list = [2*ind for ind in range(150000)]"
   ]
  },
  {
   "cell_type": "markdown",
   "metadata": {},
   "source": [
    "In all these snippets the goal is to count how many of the numbers in the list appear as keys in the dict."
   ]
  },
  {
   "cell_type": "code",
   "execution_count": null,
   "metadata": {},
   "outputs": [],
   "source": [
    "# the fastest way\n",
    "start = time.time()\n",
    "count = 0\n",
    "for ind in really_long_list:\n",
    "    if ind in really_big_dict:  # membership checking in hashmap -- constant time, independent of dict size\n",
    "        count += 1\n",
    "stop = time.time()\n",
    "\n",
    "print(count, stop - start)"
   ]
  },
  {
   "cell_type": "code",
   "execution_count": null,
   "metadata": {},
   "outputs": [],
   "source": [
    "# Slower: an iterator over the dictionary keys is constructed which needs to be searched sequentially.\n",
    "# This means linear time in the size of the dictionary\n",
    "start = time.time()\n",
    "count = 0\n",
    "for ind in really_long_list:\n",
    "    if ind in really_big_dict.keys():\n",
    "        count += 1\n",
    "stop = time.time()\n",
    "\n",
    "print(count, stop - start)"
   ]
  },
  {
   "cell_type": "code",
   "execution_count": null,
   "metadata": {},
   "outputs": [],
   "source": [
    "# MUCH slower than the above: The list of keys is constructed explicitly and then searched sequentially.\n",
    "# Included here because in Python 2, this is what would happen if you were to call dict.keys()\n",
    "# In Python 2, the faster version (snippet above) is achieved by using dict.iterkeys()\n",
    "start = time.time()\n",
    "count = 0\n",
    "for ind in really_long_list:\n",
    "    if ind in list(really_big_dict.keys()):\n",
    "        count += 1\n",
    "stop = time.time()\n",
    "\n",
    "print(count, stop - start)"
   ]
  },
  {
   "cell_type": "code",
   "execution_count": null,
   "metadata": {
    "collapsed": true
   },
   "outputs": [],
   "source": []
  }
 ],
 "metadata": {
  "kernelspec": {
   "display_name": "Python 3",
   "language": "python",
   "name": "python3"
  },
  "language_info": {
   "codemirror_mode": {
    "name": "ipython",
    "version": 3
   },
   "file_extension": ".py",
   "mimetype": "text/x-python",
   "name": "python",
   "nbconvert_exporter": "python",
   "pygments_lexer": "ipython3",
   "version": "3.5.2"
  }
 },
 "nbformat": 4,
 "nbformat_minor": 1
}
