{
 "cells": [
  {
   "cell_type": "markdown",
   "metadata": {
    "collapsed": true
   },
   "source": [
    "Below are two code snippets. Both achieve the same thing, but the second\n",
    "is arguably cleaner."
   ]
  },
  {
   "cell_type": "code",
   "execution_count": null,
   "metadata": {
    "collapsed": true
   },
   "outputs": [],
   "source": [
    "list_of_words = [\"This\", \"is\", \"a\", \"list\", \"of\", \"words\", \".\", \"\", \"They\",\n",
    "                 \"are\", \"separated\", \"into\", \"sentences\", \"by\", \"empty\",\n",
    "                 \"strings\", \".\", \"\", \"We\", \"want\", \"to\", \"turn\", \"this\",\n",
    "                 \"into\", \"a\", \"list\", \"of\", \"sentences\", \"instead.\"]"
   ]
  },
  {
   "cell_type": "code",
   "execution_count": null,
   "metadata": {},
   "outputs": [],
   "source": [
    "# option 1\n",
    "list_of_sentences = [[]]\n",
    "sentence_ind = 0\n",
    "for word in list_of_words:\n",
    "    if word != '':\n",
    "        list_of_sentences[sentence_ind].append(word)\n",
    "    else:\n",
    "        list_of_sentences.append([])\n",
    "        sentence_ind += 1\n",
    "\n",
    "print(list_of_sentences)"
   ]
  },
  {
   "cell_type": "code",
   "execution_count": null,
   "metadata": {},
   "outputs": [],
   "source": [
    "# option 2\n",
    "list_of_sentences = []\n",
    "sentence = []\n",
    "for word in list_of_words:\n",
    "    if word == \"\":  # I prefer to think in terms of equalities rather than inequalities\n",
    "        list_of_sentences.append(sentence)\n",
    "        sentence = []\n",
    "    else:\n",
    "        sentence.append(word)\n",
    "list_of_sentences.append(sentence)  # because there's no empty string at the end\n",
    "\n",
    "print(list_of_sentences)"
   ]
  },
  {
   "cell_type": "markdown",
   "metadata": {},
   "source": [
    "Here's another, more complex example. The convoluted-vs.-clear distinction \n",
    "is really apparent in my opinion. :D\n",
    "The problem: We have a list of pairs (tuples) of (shape, color). We want to\n",
    "create conditional probability distributions for colors given shapes. This\n",
    "can be represented conveniently as a dict of dicts. Then, an entry such as\n",
    "dict[shape][color] would be the probability of the color given the shape."
   ]
  },
  {
   "cell_type": "code",
   "execution_count": null,
   "metadata": {
    "collapsed": true
   },
   "outputs": [],
   "source": [
    "shapes_colors = [(\"circle\", \"red\"), (\"triangle\", \"red\"), (\"triangle\", \"blue\"), (\"circle\", \"red\"),\n",
    "                 (\"triangle\", \"blue\"), (\"circle\", \"blue\"), (\"triangle\", \"red\"), (\"circle\", \"blue\"),\n",
    "                 (\"circle\", \"red\"), (\"circle\", \"red\")]"
   ]
  },
  {
   "cell_type": "code",
   "execution_count": null,
   "metadata": {},
   "outputs": [],
   "source": [
    "# have fun understanding this one...\n",
    "def dict_pair_prob(pair_list):\n",
    "    list_length = len(pair_list)  # don't define a variable like this if you'll only use it once\n",
    "    pair_list.sort()  # this is the point where I'd get suspicious -- you don't need to sort to count, usually\n",
    "    pair_dict = {pair_list[0][0]: {}}\n",
    "    counter = 1\n",
    "    for idx in range(list_length - 1):  # if there was more between this and the definition of list_length, I might have forgotten what list this refers to -- use len(pair_list) directly!\n",
    "        if pair_list[idx] == pair_list[idx+1]:\n",
    "            counter += 1\n",
    "        else:\n",
    "            pair_dict[pair_list[idx][0]][pair_list[idx][1]] = counter  # way too many indices, hard to remember what these things actually are\n",
    "            counter = 1\n",
    "            if pair_list[idx][0] != pair_list[idx+1][0]:\n",
    "                pair_dict[pair_list[idx+1][0]] = {}\n",
    "    pair_dict[pair_list[-1][0]][pair_list[-1][1]] = counter\n",
    "\n",
    "    # this second part is fine\n",
    "    for freq_dict in pair_dict.values():\n",
    "        total_freq = sum(freq_dict.values())\n",
    "        for key, value in freq_dict.items():\n",
    "            freq_dict[key] = value/total_freq\n",
    "    return pair_dict\n",
    "\n",
    "print(dict_pair_prob(shapes_colors))"
   ]
  },
  {
   "cell_type": "markdown",
   "metadata": {},
   "source": [
    "In case you're wondering, the above code does the following:\n",
    "1) Sort the list of pairs, by the first element then the second. I.e.\n",
    "   all the circles come first, then all the triangles.\n",
    "   Within a shape, first come all the blue ones, then the red ones.\n",
    "2) Go through the list while the pair entries stay the same. Increase\n",
    "   a counter by 1 for each entry.\n",
    "3) If an element of the pair changes, create an entry in the dictionary\n",
    "   with this counter. Start a new counter, go back to 2) unless the list\n",
    "   is over.\n",
    "4) (This is okay) Normalize to turn counts into probabilities\n",
    "\n",
    "This is a very convoluted, unnecessarily complex way of solving this rather\n",
    "simple counting problem. But not only that; understanding what is being done\n",
    "is made far more difficult by not-so-descriptive variable names and excessive\n",
    "use of indexing.\n",
    "Below is a far clearer version that does the same thing."
   ]
  },
  {
   "cell_type": "code",
   "execution_count": null,
   "metadata": {},
   "outputs": [],
   "source": [
    "from collections import defaultdict\n",
    "\n",
    "def dict_pair_prob_better(pair_list):\n",
    "    pair_dict = {}\n",
    "    for shape, color in pair_list:\n",
    "        if shape not in pair_dict:\n",
    "            pair_dict[shape] = defaultdict(float)  # use float because eventually that's what's gonna be in there\n",
    "        pair_dict[shape][color] += 1\n",
    "\n",
    "    for freq_dict in pair_dict.values():\n",
    "        total_freq = sum(freq_dict.values())\n",
    "        for key, value in freq_dict.items():\n",
    "            freq_dict[key] = value/total_freq\n",
    "    return pair_dict\n",
    "\n",
    "print(dict_pair_prob_better(shapes_colors))"
   ]
  },
  {
   "cell_type": "code",
   "execution_count": null,
   "metadata": {},
   "outputs": [],
   "source": [
    "# we can even use a defaultdict of defaultdicts to make the code shorter\n",
    "def dict_pair_prob_short(pair_list):\n",
    "    pair_dict = defaultdict(lambda: defaultdict(float))\n",
    "    for shape, color in pair_list:\n",
    "        pair_dict[shape][color] += 1\n",
    "\n",
    "    for freq_dict in pair_dict.values():\n",
    "        total_freq = sum(freq_dict.values())\n",
    "        for key, value in freq_dict.items():\n",
    "            freq_dict[key] = value/total_freq\n",
    "    return pair_dict\n",
    "\n",
    "print(dict_pair_prob_better(shapes_colors))"
   ]
  },
  {
   "cell_type": "code",
   "execution_count": null,
   "metadata": {
    "collapsed": true
   },
   "outputs": [],
   "source": []
  }
 ],
 "metadata": {
  "kernelspec": {
   "display_name": "Python 3",
   "language": "python",
   "name": "python3"
  },
  "language_info": {
   "codemirror_mode": {
    "name": "ipython",
    "version": 3
   },
   "file_extension": ".py",
   "mimetype": "text/x-python",
   "name": "python",
   "nbconvert_exporter": "python",
   "pygments_lexer": "ipython3",
   "version": "3.5.2"
  }
 },
 "nbformat": 4,
 "nbformat_minor": 1
}
