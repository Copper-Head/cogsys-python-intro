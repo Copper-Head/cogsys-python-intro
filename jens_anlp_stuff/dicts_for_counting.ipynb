{
 "cells": [
  {
   "cell_type": "markdown",
   "metadata": {
    "collapsed": true
   },
   "source": [
    "Counting is a common use for dictionaries. These snippets show how collections \n",
    "can make this process more convenient."
   ]
  },
  {
   "cell_type": "code",
   "execution_count": null,
   "metadata": {},
   "outputs": [],
   "source": [
    "some_list = [\"1\", \"2\", \"3\", \"2\", \"4\", \"2\", \"1\"]\n",
    "# we want to count of often each string appears in the above list\n",
    "\n",
    "d = {}\n",
    "for entry in some_list:\n",
    "    # each time, we need to check if the dict already has an entry for this key\n",
    "    # and if not, create the entry\n",
    "    if entry in d:\n",
    "        d[entry] += 1\n",
    "    else:\n",
    "        d[entry] = 1\n",
    "\n",
    "# note the random order of the keys.\n",
    "for key in d:\n",
    "    print(\"{} occurs {} times.\".format(key, d[key]))"
   ]
  },
  {
   "cell_type": "code",
   "execution_count": null,
   "metadata": {},
   "outputs": [],
   "source": [
    "# using a defaultdict, we don't need to check for entries being there\n",
    "from collections import defaultdict\n",
    "\n",
    "d = defaultdict(int)\n",
    "for entry in some_list:\n",
    "    # if an entry is not yet in the dict, its default value of 0 will be used\n",
    "    d[entry] += 1\n",
    "\n",
    "for key in d:\n",
    "    print(\"{} occurs {} times.\".format(key, d[key]))"
   ]
  },
  {
   "cell_type": "code",
   "execution_count": null,
   "metadata": {},
   "outputs": [],
   "source": [
    "# the Counter class has been made for this kind of stuff. It also has a bunch\n",
    "# of methods allowing it to do more than just count (e.g. return the most\n",
    "# common keys)\n",
    "from collections import Counter\n",
    "c = Counter(some_list)\n",
    "\n",
    "for key in c:\n",
    "    print(\"{} occurs {} times.\".format(key, d[key]))"
   ]
  },
  {
   "cell_type": "code",
   "execution_count": null,
   "metadata": {
    "collapsed": true
   },
   "outputs": [],
   "source": []
  }
 ],
 "metadata": {
  "kernelspec": {
   "display_name": "Python 3",
   "language": "python",
   "name": "python3"
  },
  "language_info": {
   "codemirror_mode": {
    "name": "ipython",
    "version": 3
   },
   "file_extension": ".py",
   "mimetype": "text/x-python",
   "name": "python",
   "nbconvert_exporter": "python",
   "pygments_lexer": "ipython3",
   "version": "3.5.2"
  }
 },
 "nbformat": 4,
 "nbformat_minor": 1
}
