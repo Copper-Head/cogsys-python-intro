{
 "cells": [
  {
   "cell_type": "markdown",
   "metadata": {
    "collapsed": true
   },
   "source": [
    "Unsafe access in dictionaries"
   ]
  },
  {
   "cell_type": "code",
   "execution_count": null,
   "metadata": {},
   "outputs": [],
   "source": [
    "\"\"\"\n",
    "I realize this is *very* basic, but I included it because some people seemed\n",
    "to have trouble with this. In particular, their POS taggers crashed during\n",
    "the Viterbi algorithm because it checks *all* combinations of tags and words,\n",
    "whereas of course not all combinations appeared in the data. I.e. they didn't\n",
    "think about \"safe\" access.\n",
    "\"\"\"\n",
    "some_dict = {\"a\": 3, \"b\": 4}\n",
    "\n",
    "# this will work fine\n",
    "print(some_dict[\"a\"])"
   ]
  },
  {
   "cell_type": "code",
   "execution_count": null,
   "metadata": {},
   "outputs": [],
   "source": [
    "# this will crash with a KeyError :(\n",
    "print(some_dict[\"c\"])"
   ]
  },
  {
   "cell_type": "markdown",
   "metadata": {},
   "source": [
    "In contrast: dict.get()"
   ]
  },
  {
   "cell_type": "code",
   "execution_count": null,
   "metadata": {},
   "outputs": [],
   "source": [
    "print(some_dict.get(\"a\", 0))\n",
    "# no crash here; if a key is not there, the default value will be returned\n",
    "print(some_dict.get(\"c\", 0))"
   ]
  },
  {
   "cell_type": "markdown",
   "metadata": {},
   "source": [
    "More readable: defaultdict"
   ]
  },
  {
   "cell_type": "code",
   "execution_count": null,
   "metadata": {},
   "outputs": [],
   "source": [
    "from collections import defaultdict\n",
    "\n",
    "ddict = defaultdict(int)\n",
    "ddict[\"a\"] = 3\n",
    "print(ddict[\"a\"])\n",
    "# again no crash; default \"int\" value is 0\n",
    "print(ddict[\"b\"])\n",
    "\n",
    "# we can also just start modifying non-existent keys; they will exist afterwards\n",
    "ddict[\"b\"] += 1\n",
    "print(ddict[\"b\"])"
   ]
  },
  {
   "cell_type": "code",
   "execution_count": null,
   "metadata": {},
   "outputs": [],
   "source": [
    "# default value has to be return value a function that takes no arguments (right?)\n",
    "ddict2 = defaultdict(lambda: 1)\n",
    "print(ddict2[\"b\"])\n",
    "ddict2[\"a\"] = 5\n",
    "print(ddict2[\"a\"])"
   ]
  },
  {
   "cell_type": "markdown",
   "metadata": {},
   "source": [
    "NOTE that crashing with a KeyError in case a non-existent key is accessed can be totally\n",
    " desirable behavior! E.g. in case that any key that is being accessed *should* be in the \n",
    "dictionary, you would want the program to crash instead of silently returning some default \n",
    "value that might screw up the rest of the program."
   ]
  }
 ],
 "metadata": {
  "kernelspec": {
   "display_name": "Python 3",
   "language": "python",
   "name": "python3"
  },
  "language_info": {
   "codemirror_mode": {
    "name": "ipython",
    "version": 3
   },
   "file_extension": ".py",
   "mimetype": "text/x-python",
   "name": "python",
   "nbconvert_exporter": "python",
   "pygments_lexer": "ipython3",
   "version": "3.5.2"
  }
 },
 "nbformat": 4,
 "nbformat_minor": 1
}
