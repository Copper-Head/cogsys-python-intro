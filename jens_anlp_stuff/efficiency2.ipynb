{
 "cells": [
  {
   "cell_type": "code",
   "execution_count": null,
   "metadata": {},
   "outputs": [],
   "source": [
    "# don't use list.count if you want to count how many of v are in a certain list for v being a lot of different elements\n",
    "# (in this case, we want to count for each v=1,...,100 how many times it appears in a_list\n",
    "import time\n",
    "a_list = list(range(100))*100000  # every number from 1-100, 100000 times"
   ]
  },
  {
   "cell_type": "code",
   "execution_count": null,
   "metadata": {},
   "outputs": [],
   "source": [
    "# this essentially iterates over a_list 100 times, each time only counting the occurrences of one specific number\n",
    "# it might be tempting to use this because writing \"count\" to do the counting over a whole list looks so simple\n",
    "start = time.time()\n",
    "count = [0]*100\n",
    "for ind in range(100):\n",
    "    count[ind] = a_list.count(ind)\n",
    "\n",
    "end = time.time()\n",
    "print(end - start)"
   ]
  },
  {
   "cell_type": "code",
   "execution_count": null,
   "metadata": {},
   "outputs": [],
   "source": [
    "# this only iterates over the list once, counting whichever numbers we encounter along the way\n",
    "# turns out it's also just as easy to write...\n",
    "start = time.time()\n",
    "count = [0]*100\n",
    "for element in a_list:\n",
    "    count[element] += 1\n",
    "\n",
    "end = time.time()\n",
    "print(end - start)"
   ]
  },
  {
   "cell_type": "code",
   "execution_count": null,
   "metadata": {
    "collapsed": true
   },
   "outputs": [],
   "source": []
  }
 ],
 "metadata": {
  "kernelspec": {
   "display_name": "Python 3",
   "language": "python",
   "name": "python3"
  },
  "language_info": {
   "codemirror_mode": {
    "name": "ipython",
    "version": 3
   },
   "file_extension": ".py",
   "mimetype": "text/x-python",
   "name": "python",
   "nbconvert_exporter": "python",
   "pygments_lexer": "ipython3",
   "version": "3.5.2"
  }
 },
 "nbformat": 4,
 "nbformat_minor": 2
}
